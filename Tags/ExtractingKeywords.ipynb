{
 "cells": [
  {
   "cell_type": "code",
   "execution_count": null,
   "id": "2ad65853",
   "metadata": {
    "scrolled": true
   },
   "outputs": [],
   "source": [
    "! pip install keybert"
   ]
  },
  {
   "cell_type": "code",
   "execution_count": null,
   "id": "040e873a",
   "metadata": {},
   "outputs": [],
   "source": [
    "%config Complete.use_jedi=False"
   ]
  },
  {
   "cell_type": "code",
   "execution_count": null,
   "id": "cee89cc9",
   "metadata": {},
   "outputs": [],
   "source": [
    "from keybert import KeyBERT"
   ]
  },
  {
   "cell_type": "code",
   "execution_count": null,
   "id": "07247b39",
   "metadata": {},
   "outputs": [],
   "source": [
    "model = KeyBERT(model=\"distilbert-base-nli-mean-tokens\")"
   ]
  },
  {
   "cell_type": "code",
   "execution_count": 89,
   "id": "ac6bdcb4",
   "metadata": {},
   "outputs": [],
   "source": [
    "#open udemy3.csv and read the description column\n",
    "with open('udemy3.csv', 'r', encoding='utf-8') as f:\n",
    "    for line in f:\n",
    "        line = line.split(\"|\")\n",
    "        id = line[0]\n",
    "        description = line[1]\n",
    "        keywords = model.extract_keywords(description, top_n=10, keyphrase_ngram_range=(1, 1), stop_words='english', use_maxsum=True, nr_candidates=10)\n",
    "        #save id and keywords to a new csv file\n",
    "        results = []\n",
    "\n",
    "        for i in keywords:\n",
    "            results.append(i[0])\n",
    "\n",
    "        with open('keywords.csv', 'a', encoding='utf-8') as f:\n",
    "            f.write(str(id) + \"|\" + str(results) + \"\\n\")"
   ]
  },
  {
   "cell_type": "code",
   "execution_count": null,
   "id": "43f06b33",
   "metadata": {},
   "outputs": [],
   "source": [
    "#Modelo que usaremos para extrar palabras claves\n",
    "model.extract_keywords(\n",
    "    data,\n",
    "    top_n=10,\n",
    "    keyphrase_ngram_range=(1, 1),\n",
    "    stop_words=\"english\",\n",
    "    use_maxsum=True,\n",
    "    nr_candidates=10\n",
    ")\n",
    "\n"
   ]
  }
 ],
 "metadata": {
  "kernelspec": {
   "display_name": "Python 3 (ipykernel)",
   "language": "python",
   "name": "python3"
  },
  "language_info": {
   "codemirror_mode": {
    "name": "ipython",
    "version": 3
   },
   "file_extension": ".py",
   "mimetype": "text/x-python",
   "name": "python",
   "nbconvert_exporter": "python",
   "pygments_lexer": "ipython3",
   "version": "3.11.0"
  },
  "vscode": {
   "interpreter": {
    "hash": "acd6d125a7a2fdcb5329c46ffbe400bee3a09eb55c052f457e0399358ff63f0f"
   }
  }
 },
 "nbformat": 4,
 "nbformat_minor": 5
}
