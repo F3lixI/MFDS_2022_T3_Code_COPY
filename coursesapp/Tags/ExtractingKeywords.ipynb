{
 "cells": [
  {
   "cell_type": "code",
   "execution_count": null,
   "id": "9a0d4396",
   "metadata": {
    "scrolled": true
   },
   "outputs": [],
   "source": [
    "! pip install keybert"
   ]
  },
  {
   "cell_type": "code",
   "execution_count": null,
   "id": "97ad6cdf",
   "metadata": {},
   "outputs": [],
   "source": [
    "%config Complete.use_jedi=False"
   ]
  },
  {
   "cell_type": "code",
   "execution_count": null,
   "id": "3efd71f3",
   "metadata": {},
   "outputs": [],
   "source": [
    "from keybert import KeyBERT"
   ]
  },
  {
   "cell_type": "code",
   "execution_count": null,
   "id": "b678ca81",
   "metadata": {},
   "outputs": [],
   "source": [
    "model = KeyBERT(model=\"distilbert-base-nli-mean-tokens\")"
   ]
  },
  {
   "cell_type": "code",
   "execution_count": null,
   "id": "2d1801ea",
   "metadata": {},
   "outputs": [],
   "source": [
    "doc = \"\"\"\n",
    "         4475008;Webpack 5 Ninja (2022) - Build Micro frontend and web apps;479.0;/course/webpack-5-ninja-build-micro-frontend-and-web-apps/;\n",
    "         frontend;4.7;en;udemy;Gaurav Soni;beginner', '797040;Complete FrontEnd Web Development and Design HTML CSS JS;1099.0;\n",
    "        /course/complete-guide-to-front-end-web-development-and-design/;frontend;4.5;en;udemy;Laurence Svekis;beginner\n",
    "      \"\"\""
   ]
  },
  {
   "cell_type": "code",
   "execution_count": 13,
   "id": "33e3559d",
   "metadata": {},
   "outputs": [
    {
     "name": "stdout",
     "output_type": "stream",
     "text": [
      "CPU times: total: 1 s\n",
      "Wall time: 279 ms\n"
     ]
    },
    {
     "data": {
      "text/plain": [
       "[('2022', 0.4126),\n",
       " ('ninja', 0.3276),\n",
       " ('webpack', 0.2907),\n",
       " ('html', 0.242),\n",
       " ('797040', 0.2122),\n",
       " ('4475008', 0.2089),\n",
       " ('1099', 0.2009),\n",
       " ('apps', 0.196),\n",
       " ('web', 0.1794),\n",
       " ('build', 0.0882)]"
      ]
     },
     "execution_count": 13,
     "metadata": {},
     "output_type": "execute_result"
    }
   ],
   "source": [
    "%%time\n",
    "model.extract_keywords(\n",
    "    doc,\n",
    "    top_n=10,\n",
    "    keyphrase_ngram_range=(1, 1),\n",
    "    stop_words=\"english\",\n",
    ")"
   ]
  },
  {
   "cell_type": "code",
   "execution_count": 15,
   "id": "f7d77b78",
   "metadata": {},
   "outputs": [
    {
     "name": "stdout",
     "output_type": "stream",
     "text": [
      "CPU times: total: 8.58 s\n",
      "Wall time: 6.99 s\n"
     ]
    },
    {
     "data": {
      "text/plain": [
       "[('complete', -0.0038),\n",
       " ('479', 0.0759),\n",
       " ('build', 0.0882),\n",
       " ('apps', 0.196),\n",
       " ('1099', 0.2009),\n",
       " ('4475008', 0.2089),\n",
       " ('html', 0.242),\n",
       " ('webpack', 0.2907),\n",
       " ('ninja', 0.3276),\n",
       " ('2022', 0.4126)]"
      ]
     },
     "execution_count": 15,
     "metadata": {},
     "output_type": "execute_result"
    }
   ],
   "source": [
    "%%time\n",
    "model.extract_keywords(\n",
    "    doc,\n",
    "    top_n=10,\n",
    "    keyphrase_ngram_range=(1, 1),\n",
    "    stop_words=\"english\",\n",
    "    use_maxsum=True,\n",
    "    nr_candidates=20\n",
    ")"
   ]
  },
  {
   "cell_type": "code",
   "execution_count": 17,
   "id": "4becb19c",
   "metadata": {},
   "outputs": [
    {
     "name": "stdout",
     "output_type": "stream",
     "text": [
      "CPU times: total: 906 ms\n",
      "Wall time: 218 ms\n"
     ]
    },
    {
     "data": {
      "text/plain": [
       "[('2022', 0.4126),\n",
       " ('ninja', 0.3276),\n",
       " ('webpack', 0.2907),\n",
       " ('html', 0.242),\n",
       " ('797040', 0.2122),\n",
       " ('1099', 0.2009),\n",
       " ('apps', 0.196),\n",
       " ('build', 0.0882),\n",
       " ('479', 0.0759),\n",
       " ('micro', 0.0349)]"
      ]
     },
     "execution_count": 17,
     "metadata": {},
     "output_type": "execute_result"
    }
   ],
   "source": [
    "%%time\n",
    "model.extract_keywords(\n",
    "    doc,\n",
    "    top_n=10,\n",
    "    keyphrase_ngram_range=(1, 1),\n",
    "    stop_words=\"english\",\n",
    "    use_mmr=True,\n",
    ")"
   ]
  },
  {
   "cell_type": "code",
   "execution_count": null,
   "id": "11ac0c41",
   "metadata": {},
   "outputs": [],
   "source": []
  }
 ],
 "metadata": {
  "kernelspec": {
   "display_name": "Python 3 (ipykernel)",
   "language": "python",
   "name": "python3"
  },
  "language_info": {
   "codemirror_mode": {
    "name": "ipython",
    "version": 3
   },
   "file_extension": ".py",
   "mimetype": "text/x-python",
   "name": "python",
   "nbconvert_exporter": "python",
   "pygments_lexer": "ipython3",
   "version": "3.9.12"
  }
 },
 "nbformat": 4,
 "nbformat_minor": 5
}
